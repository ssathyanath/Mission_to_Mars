{
 "cells": [
  {
   "cell_type": "code",
   "execution_count": 1,
   "metadata": {},
   "outputs": [],
   "source": [
    "from splinter import Browser\n",
    "from bs4 import BeautifulSoup as soup"
   ]
  },
  {
   "cell_type": "code",
   "execution_count": 2,
   "metadata": {},
   "outputs": [],
   "source": [
    "#!which chromedriver"
   ]
  },
  {
   "cell_type": "code",
   "execution_count": 3,
   "metadata": {},
   "outputs": [],
   "source": [
    "# Windows users\n",
    "executable_path = {'executable_path': 'chromedriver.exe'}\n",
    "browser = Browser('chrome', **executable_path, headless=False)"
   ]
  },
  {
   "cell_type": "code",
   "execution_count": 4,
   "metadata": {},
   "outputs": [],
   "source": [
    "# Visit the Quotes to Scrape site\n",
    "url = 'http://books.toscrape.com/'\n",
    "browser.visit(url)"
   ]
  },
  {
   "cell_type": "code",
   "execution_count": 5,
   "metadata": {},
   "outputs": [],
   "source": [
    "# Parse the HTML\n",
    "html = browser.html\n",
    "books_soup = soup(html, 'html.parser')"
   ]
  },
  {
   "cell_type": "code",
   "execution_count": 6,
   "metadata": {},
   "outputs": [
    {
     "data": {
      "text/plain": [
       "'catalogue/a-light-in-the-attic_1000/index.html'"
      ]
     },
     "execution_count": 6,
     "metadata": {},
     "output_type": "execute_result"
    }
   ],
   "source": [
    "books_soup.find(\"article\", class_ = \"product_pod\").div.a.get('href')"
   ]
  },
  {
   "cell_type": "code",
   "execution_count": 7,
   "metadata": {},
   "outputs": [
    {
     "name": "stdout",
     "output_type": "stream",
     "text": [
      "--------\n",
      "A Light in the Attic\n",
      "catalogue/a-light-in-the-attic_1000/index.html\n",
      "--------\n",
      "Tipping the Velvet\n",
      "catalogue/tipping-the-velvet_999/index.html\n",
      "--------\n",
      "Soumission\n",
      "catalogue/soumission_998/index.html\n",
      "--------\n",
      "Sharp Objects\n",
      "catalogue/sharp-objects_997/index.html\n",
      "--------\n",
      "Sapiens: A Brief History of Humankind\n",
      "catalogue/sapiens-a-brief-history-of-humankind_996/index.html\n",
      "--------\n",
      "The Requiem Red\n",
      "catalogue/the-requiem-red_995/index.html\n",
      "--------\n",
      "The Dirty Little Secrets of Getting Your Dream Job\n",
      "catalogue/the-dirty-little-secrets-of-getting-your-dream-job_994/index.html\n",
      "--------\n",
      "The Coming Woman: A Novel Based on the Life of the Infamous Feminist, Victoria Woodhull\n",
      "catalogue/the-coming-woman-a-novel-based-on-the-life-of-the-infamous-feminist-victoria-woodhull_993/index.html\n",
      "--------\n",
      "The Boys in the Boat: Nine Americans and Their Epic Quest for Gold at the 1936 Berlin Olympics\n",
      "catalogue/the-boys-in-the-boat-nine-americans-and-their-epic-quest-for-gold-at-the-1936-berlin-olympics_992/index.html\n",
      "--------\n",
      "The Black Maria\n",
      "catalogue/the-black-maria_991/index.html\n",
      "--------\n",
      "Starving Hearts (Triangular Trade Trilogy, #1)\n",
      "catalogue/starving-hearts-triangular-trade-trilogy-1_990/index.html\n",
      "--------\n",
      "Shakespeare's Sonnets\n",
      "catalogue/shakespeares-sonnets_989/index.html\n",
      "--------\n",
      "Set Me Free\n",
      "catalogue/set-me-free_988/index.html\n",
      "--------\n",
      "Scott Pilgrim's Precious Little Life (Scott Pilgrim #1)\n",
      "catalogue/scott-pilgrims-precious-little-life-scott-pilgrim-1_987/index.html\n",
      "--------\n",
      "Rip it Up and Start Again\n",
      "catalogue/rip-it-up-and-start-again_986/index.html\n",
      "--------\n",
      "Our Band Could Be Your Life: Scenes from the American Indie Underground, 1981-1991\n",
      "catalogue/our-band-could-be-your-life-scenes-from-the-american-indie-underground-1981-1991_985/index.html\n",
      "--------\n",
      "Olio\n",
      "catalogue/olio_984/index.html\n",
      "--------\n",
      "Mesaerion: The Best Science Fiction Stories 1800-1849\n",
      "catalogue/mesaerion-the-best-science-fiction-stories-1800-1849_983/index.html\n",
      "--------\n",
      "Libertarianism for Beginners\n",
      "catalogue/libertarianism-for-beginners_982/index.html\n",
      "--------\n",
      "It's Only the Himalayas\n",
      "catalogue/its-only-the-himalayas_981/index.html\n"
     ]
    }
   ],
   "source": [
    "#book_detail = books_soup.find_all('article', class_='product_pod')\n",
    "book_detail = books_soup.find_all(\"article\", class_ = \"product_pod\")\n",
    "\n",
    "for book in book_detail:\n",
    "    print(\"--------\")\n",
    "    #book_url=book.div.a.get('href')\n",
    "    #print(book)\n",
    "    book_line=book.find(\"h3\")\n",
    "    book_url=book_line.find('a').get(\"href\")\n",
    "    book_title=book_line.find('a').get('title')\n",
    "    print(book_title)\n",
    "    print(book_url)\n",
    "\n"
   ]
  },
  {
   "cell_type": "code",
   "execution_count": null,
   "metadata": {},
   "outputs": [],
   "source": []
  }
 ],
 "metadata": {
  "kernelspec": {
   "display_name": "PythonData",
   "language": "python",
   "name": "pythondata"
  },
  "language_info": {
   "codemirror_mode": {
    "name": "ipython",
    "version": 3
   },
   "file_extension": ".py",
   "mimetype": "text/x-python",
   "name": "python",
   "nbconvert_exporter": "python",
   "pygments_lexer": "ipython3",
   "version": "3.7.6"
  }
 },
 "nbformat": 4,
 "nbformat_minor": 4
}
